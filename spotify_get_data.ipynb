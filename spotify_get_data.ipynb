{
 "cells": [
  {
   "cell_type": "code",
   "execution_count": 1,
   "metadata": {},
   "outputs": [],
   "source": [
    "# Aim - \n",
    "# 1. Fetch a user's podcast data \n",
    "# 2. Based on a search term, get all podcasts in the Spotify catalog\n",
    "\n",
    "# Code Reference - https://github.com/sam-brady/spotify-podcasts/blob/master/Spotify%20Podcasts.ipynb\n",
    "\n",
    "# Spotify Docs - https://developer.spotify.com/documentation/web-api/reference/episodes/\n",
    "#                https://developer.spotify.com/community/news/2020/03/20/introducing-podcasts-api/"
   ]
  },
  {
   "cell_type": "code",
   "execution_count": null,
   "metadata": {},
   "outputs": [],
   "source": [
    "import pandas as pd\n",
    "import numpy as np\n",
    "import json\n",
    "import requests\n",
    "import urllib.parse\n",
    "\n",
    "import spotipy.util as util\n",
    "\n",
    "import matplotlib.pyplot as plt\n",
    "import seaborn as sns\n",
    "\n",
    "import datetime"
   ]
  },
  {
   "cell_type": "code",
   "execution_count": 2,
   "metadata": {},
   "outputs": [],
   "source": [
    "def authenticate_token(scope):\n",
    "    client_id = '<ENTER CLIENT ID>'         \n",
    "    client_secret = '<ENTER CLIENT SECRET>'       \n",
    "    username = '<ENTER USERNAME>'                                \n",
    "    redirect_uri = '<ENTER REDIRECT URI>'\n",
    "\n",
    "    return util.prompt_for_user_token(username=username, \n",
    "                                       scope=scope, \n",
    "                                       client_id=client_id,   \n",
    "                                       client_secret=client_secret,     \n",
    "                                       redirect_uri=redirect_uri)\n"
   ]
  },
  {
   "cell_type": "code",
   "execution_count": null,
   "metadata": {},
   "outputs": [],
   "source": [
    "def get_my_podcasts(endpoint_url, token):\n",
    "    '''\n",
    "    Get all the podcasts a user has subscribed to\n",
    "    '''\n",
    "    name_list = []                                         \n",
    "    id_list = []\n",
    "    desc_list = []\n",
    "    pub_list = []\n",
    "    lang_list = []\n",
    "\n",
    "    type = 'show'    \n",
    "    market  = 'US'\n",
    "    limit = 50                                             \n",
    "    offset = 0\n",
    "\n",
    "    more_runs = 1                                          \n",
    "    counter = 0 \n",
    "\n",
    "    while((offset <= 1950) & (counter <= more_runs)):\n",
    "        query = f'{endpoint_url}'\n",
    "        query += f'&type={type}'\n",
    "        query += f'&offset={offset}'                       \n",
    "        query += f'&market={market}'\n",
    "        query += f'&limit={limit}'\n",
    "\n",
    "        response = requests.get(query,                                           \n",
    "                       headers={\"Content-Type\":\"application/json\", \n",
    "                                \"Authorization\":f\"Bearer {token}\"})  \n",
    "        json_response = response.json()                                           \n",
    "\n",
    "        for i in range(len(json_response['items'])):\n",
    "            name_list.append(json_response['items'][i]['show']['name']) \n",
    "            id_list.append(json_response['items'][i]['show']['id']) \n",
    "            desc_list.append(json_response['items'][i]['show']['description']) \n",
    "            pub_list.append(json_response['items'][i]['show']['publisher']) \n",
    "            lang_list.append(json_response['items'][i]['show']['languages']) \n",
    "\n",
    "        more_runs = (json_response['total'] // 50 )                 \n",
    "        counter += 1                                                    \n",
    "        offset = offset + 50              \n",
    "\n",
    "    return pd.DataFrame({'id':id_list, 'name':name_list, 'publisher':pub_list, \n",
    "                         'description':desc_list, 'languages':lang_list})"
   ]
  },
  {
   "cell_type": "code",
   "execution_count": null,
   "metadata": {},
   "outputs": [],
   "source": [
    "token = authenticate_token('user-library-read')\n",
    "my_podcasts = get_my_podcasts(\"https://api.spotify.com/v1/me/shows?\", token)"
   ]
  },
  {
   "cell_type": "code",
   "execution_count": 3,
   "metadata": {},
   "outputs": [],
   "source": [
    "def search_podcasts(search, endpoint_url, token):\n",
    "    '''\n",
    "    Based on a search term, get all the podcasts in the Spotify catalog\n",
    "    '''\n",
    "    name_list = []                                         \n",
    "    id_list = []\n",
    "    desc_list = []\n",
    "    pub_list = []\n",
    "    lang_list = []\n",
    "\n",
    "    type = 'show'    \n",
    "    market  = 'US'\n",
    "    limit = 50                                             \n",
    "    offset = 0                                             \n",
    "\n",
    "    more_runs = 1                                          \n",
    "    counter = 0  \n",
    "                                                    \n",
    "    while((offset <= 1950) & (counter <= more_runs)):           \n",
    "        query = f'{endpoint_url}'\n",
    "        query += f'&q={search}'\n",
    "        query += f'&type={type}'\n",
    "        query += f'&offset={offset}'                       \n",
    "        query += f'&market={market}'\n",
    "        query += f'&limit={limit}'\n",
    "\n",
    "        response = requests.get(query,                                          \n",
    "                       headers={\"Content-Type\":\"application/json\", \n",
    "                                \"Authorization\":f\"Bearer {token}\"})  \n",
    "        json_response = response.json()                                           \n",
    "\n",
    "        for i in range(len(json_response['shows']['items'])):                      \n",
    "            id_list.append(json_response['shows']['items'][i]['id'])               \n",
    "            name_list.append(json_response['shows']['items'][i]['name'])           \n",
    "            desc_list.append(json_response['shows']['items'][i]['description'])\n",
    "            pub_list.append(json_response['shows']['items'][i]['publisher'])\n",
    "            lang_list.append(json_response['shows']['items'][i]['languages'])\n",
    "\n",
    "        more_runs = (json_response['shows']['total'] // 50 )                \n",
    "        counter += 1                                                    \n",
    "        offset = offset + 50                                           \n",
    "\n",
    "    return pd.DataFrame({'id':id_list, 'name':name_list, 'publisher':pub_list,\n",
    "                         'description':desc_list,'languages':lang_list})"
   ]
  },
  {
   "cell_type": "code",
   "execution_count": 4,
   "metadata": {},
   "outputs": [],
   "source": [
    "token = authenticate_token('playlist-modify-public playlist-modify')\n",
    "ds_podcasts = search_podcasts('data science', \"https://api.spotify.com/v1/search?\", token)\n",
    "finance_podcasts = search_podcasts('finance', \"https://api.spotify.com/v1/search?\", token)\n",
    "politics_podcasts = search_podcasts('politics', \"https://api.spotify.com/v1/search?\", token)"
   ]
  },
  {
   "cell_type": "code",
   "execution_count": null,
   "metadata": {},
   "outputs": [],
   "source": []
  },
  {
   "cell_type": "code",
   "execution_count": null,
   "metadata": {},
   "outputs": [],
   "source": []
  },
  {
   "cell_type": "code",
   "execution_count": null,
   "metadata": {},
   "outputs": [],
   "source": []
  },
  {
   "cell_type": "code",
   "execution_count": null,
   "metadata": {},
   "outputs": [],
   "source": []
  },
  {
   "cell_type": "code",
   "execution_count": null,
   "metadata": {},
   "outputs": [],
   "source": []
  },
  {
   "cell_type": "code",
   "execution_count": null,
   "metadata": {},
   "outputs": [],
   "source": []
  },
  {
   "cell_type": "code",
   "execution_count": null,
   "metadata": {},
   "outputs": [],
   "source": []
  },
  {
   "cell_type": "code",
   "execution_count": null,
   "metadata": {},
   "outputs": [],
   "source": []
  },
  {
   "cell_type": "code",
   "execution_count": null,
   "metadata": {},
   "outputs": [],
   "source": []
  },
  {
   "cell_type": "code",
   "execution_count": null,
   "metadata": {},
   "outputs": [],
   "source": []
  }
 ],
 "metadata": {
  "kernelspec": {
   "display_name": "Python 3",
   "language": "python",
   "name": "python3"
  },
  "language_info": {
   "codemirror_mode": {
    "name": "ipython",
    "version": 3
   },
   "file_extension": ".py",
   "mimetype": "text/x-python",
   "name": "python",
   "nbconvert_exporter": "python",
   "pygments_lexer": "ipython3",
   "version": "3.6.8"
  }
 },
 "nbformat": 4,
 "nbformat_minor": 2
}
